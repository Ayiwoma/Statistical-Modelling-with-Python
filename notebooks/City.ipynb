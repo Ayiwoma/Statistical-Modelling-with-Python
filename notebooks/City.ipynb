
{
 "cells": [
  {
   "cell_type": "code",
   "execution_count": 1,
   "id": "50994053-1b66-4043-ad33-220def10a445",
   "metadata": {},
   "outputs": [],
   "source": [
    "\n",
    "\n",
    "import requests\n",
    "import pandas as pd\n",
    "\n",
    "url = 'https://api.citybik.es/v2/networks'\n",
    "response = requests.get(url)\n",
    "data = response.json()\n",
    "\n",
    "london_stations = []\n",
    "\n",
    "# Find the London network\n",
    "for network in data['networks']:\n",
    "    if network['location']['city'] == 'London' and network['location']['country'] == 'GB':\n",
    "        london_network = network"
   ]
  },
  {
   "cell_type": "code",
   "execution_count": 3,
   "id": "8ece2b2f-6ee9-40ea-a258-851b1207d19d",
   "metadata": {},
   "outputs": [],
   "source": [
    "network_id = london_network['id']\n",
    "network_url = f'https://api.citybik.es/v2/networks/{network_id}'\n",
    "network_response = requests.get(network_url)\n",
    "network_data = network_response.json()\n",
    "\n",
    "bike_stations = network_data['network']['stations']"
   ]
  },
  {
   "cell_type": "code",
   "execution_count": 4,
   "id": "b69a2038-d554-44ce-b00c-b81594fc817e",
   "metadata": {},
   "outputs": [
    {
     "data": {
      "text/html": [
       "<div>\n",
       "<style scoped>\n",
       "    .dataframe tbody tr th:only-of-type {\n",
       "        vertical-align: middle;\n",
       "    }\n",
       "\n",
       "    .dataframe tbody tr th {\n",
       "        vertical-align: top;\n",
       "    }\n",
       "\n",
       "    .dataframe thead th {\n",
       "        text-align: right;\n",
       "    }\n",
       "</style>\n",
       "<table border=\"1\" class=\"dataframe\">\n",
       "  <thead>\n",
       "    <tr style=\"text-align: right;\">\n",
       "      <th></th>\n",
       "      <th>empty_slots</th>\n",
       "      <th>free_bikes</th>\n",
       "      <th>bike_id</th>\n",
       "      <th>latitude</th>\n",
       "      <th>longitude</th>\n",
       "      <th>bike_station</th>\n",
       "    </tr>\n",
       "  </thead>\n",
       "  <tbody>\n",
       "    <tr>\n",
       "      <th>0</th>\n",
       "      <td>0</td>\n",
       "      <td>17</td>\n",
       "      <td>7f3020118e56165ed8b2f61899edb971</td>\n",
       "      <td>51.529163</td>\n",
       "      <td>-0.109971</td>\n",
       "      <td>001023 - River Street , Clerkenwell</td>\n",
       "    </tr>\n",
       "    <tr>\n",
       "      <th>1</th>\n",
       "      <td>19</td>\n",
       "      <td>17</td>\n",
       "      <td>67e6c16bce05410ba4b1f0f5000726ea</td>\n",
       "      <td>51.499607</td>\n",
       "      <td>-0.197574</td>\n",
       "      <td>001018 - Phillimore Gardens, Kensington</td>\n",
       "    </tr>\n",
       "    <tr>\n",
       "      <th>2</th>\n",
       "      <td>5</td>\n",
       "      <td>12</td>\n",
       "      <td>26184215d38089fcad213ef222e69780</td>\n",
       "      <td>51.505974</td>\n",
       "      <td>-0.092754</td>\n",
       "      <td>001024 - Park Street, Bankside</td>\n",
       "    </tr>\n",
       "    <tr>\n",
       "      <th>3</th>\n",
       "      <td>3</td>\n",
       "      <td>21</td>\n",
       "      <td>1eabd7ac8e781befd03f52ef56a18aa7</td>\n",
       "      <td>51.523951</td>\n",
       "      <td>-0.122502</td>\n",
       "      <td>001022 - Brunswick Square, Bloomsbury</td>\n",
       "    </tr>\n",
       "    <tr>\n",
       "      <th>4</th>\n",
       "      <td>38</td>\n",
       "      <td>9</td>\n",
       "      <td>23efb32f80a9dcd0e4f61fb44b353ce1</td>\n",
       "      <td>51.521681</td>\n",
       "      <td>-0.130432</td>\n",
       "      <td>000980 - Malet Street, Bloomsbury</td>\n",
       "    </tr>\n",
       "  </tbody>\n",
       "</table>\n",
       "</div>"
      ],
      "text/plain": [
       "   empty_slots  free_bikes                           bike_id   latitude  \\\n",
       "0            0          17  7f3020118e56165ed8b2f61899edb971  51.529163   \n",
       "1           19          17  67e6c16bce05410ba4b1f0f5000726ea  51.499607   \n",
       "2            5          12  26184215d38089fcad213ef222e69780  51.505974   \n",
       "3            3          21  1eabd7ac8e781befd03f52ef56a18aa7  51.523951   \n",
       "4           38           9  23efb32f80a9dcd0e4f61fb44b353ce1  51.521681   \n",
       "\n",
       "   longitude                             bike_station  \n",
       "0  -0.109971      001023 - River Street , Clerkenwell  \n",
       "1  -0.197574  001018 - Phillimore Gardens, Kensington  \n",
       "2  -0.092754           001024 - Park Street, Bankside  \n",
       "3  -0.122502    001022 - Brunswick Square, Bloomsbury  \n",
       "4  -0.130432        000980 - Malet Street, Bloomsbury  "
      ]
     },
     "execution_count": 4,
     "metadata": {},
     "output_type": "execute_result"
    }
   ],
   "source": [
    "# Create DataFrame from the parsed results\n",
    "df = pd.DataFrame(bike_stations)\n",
    "\n",
    "# Drop unnecessary columns\n",
    "df1 = df.drop(columns=['extra', 'timestamp'])\n",
    "\n",
    "# Rename remaining columns\n",
    "bike_stations = df1.rename(columns={\n",
    "    'name' : 'bike_station', \n",
    "    'id' : 'bike_id'})\n",
    "\n",
    "bike_stations.head(5)"
   ]
  },
  {
   "cell_type": "code",
   "execution_count": null,
   "id": "850788ae-437e-4f23-9c5a-64f4b1a7f188",
   "metadata": {},
   "outputs": [],
   "source": []
  }
 ],
 "metadata": {
  "kernelspec": {
   "display_name": "Python 3 (ipykernel)",
   "language": "python",
   "name": "python3"
  },
  "language_info": {
   "codemirror_mode": {
    "name": "ipython",
    "version": 3
   },
   "file_extension": ".py",
   "mimetype": "text/x-python",
   "name": "python",
   "nbconvert_exporter": "python",
   "pygments_lexer": "ipython3",
   "version": "3.11.7"
  }
 },
 "nbformat": 4,
 "nbformat_minor": 5
}
