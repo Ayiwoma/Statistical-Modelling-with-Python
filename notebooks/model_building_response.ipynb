{
 "cells": [
  {
   "cell_type": "code",
   "execution_count": null,
   "id": "b1d34c29-367c-41fd-a272-17cd061ba31d",
   "metadata": {},
   "outputs": [],
   "source": [
    "#Build a regression model."
   ]
  },
  {
   "cell_type": "code",
   "execution_count": null,
   "id": "eb228552-c593-49f0-b866-f877c50f33e3",
   "metadata": {},
   "outputs": [],
   "source": [
    "import pandas as pd\n",
    "import numpy as np\n",
    "import matplotlib.pyplot as plt\n",
    "import seaborn as sns\n",
    "import statsmodels.api as sm"
   ]
  },
  {
   "cell_type": "code",
   "execution_count": null,
   "id": "f585b49e-b0a6-43e5-9974-67d00d595a2e",
   "metadata": {},
   "outputs": [],
   "source": [
    "import pandas as pd\n",
    "\n",
    "df_bike_stations = pd.read_csv(\"london_bike_stations.csv\")\n",
    "df_yelp_locations = pd.read_csv(\"london_uk_yelp.csv\")\n",
    "\n",
    "# Merge the DataFrames on the common column 'id'\n",
    "df_model = pd.merge(df_bike_stations, df_yelp_locations, on='id', how='inner')\n",
    "\n",
    "# Check if the 'Unnamed: 0' column exists before dropping it\n",
    "if 'Unnamed: 0' in df_model.columns:\n",
    "    df_model = df_model.drop(columns='Unnamed: 0')\n",
    "\n",
    "# Check the information about the DataFrame\n",
    "df_model.info()\n"
   ]
  },
  {
   "cell_type": "code",
   "execution_count": null,
   "id": "c399e83a-4645-46de-9873-4b20c193a8d7",
   "metadata": {},
   "outputs": [],
   "source": [
    "df_model.describe()"
   ]
  },
  {
   "cell_type": "code",
   "execution_count": null,
   "id": "3ee81641-4cd4-426e-921c-35e6ec3c5695",
   "metadata": {},
   "outputs": [],
   "source": [
    "sns.pairplot(df_model) #Visualize pair of variables in the dataset via scatterplot.\n",
    "plt.show()"
   ]
  },
  {
   "cell_type": "code",
   "execution_count": null,
   "id": "242bedb8-317c-4b04-ab1e-b644cd7841db",
   "metadata": {},
   "outputs": [],
   "source": [
    "#Formula to fit and print results of the linear regression model.\n",
    "X = df_model[['yelp_rating', 'yelp_review_count', 'empty_slots']] # These are identified as independent variables\n",
    "y = df_model['free_bikes'] # This is identified as the dependent variable\n",
    "\n",
    "X = sm.add_constant(X)\n",
    "\n",
    "model = sm.OLS(y, X).fit()\n",
    "\n",
    "print(model.summary())"
   ]
  },
  {
   "cell_type": "code",
   "execution_count": null,
   "id": "544dd496-ad6a-4201-abf6-a86db51aa268",
   "metadata": {},
   "outputs": [],
   "source": []
  }
 ],
 "metadata": {
  "kernelspec": {
   "display_name": "Python 3 (ipykernel)",
   "language": "python",
   "name": "python3"
  },
  "language_info": {
   "codemirror_mode": {
    "name": "ipython",
    "version": 3
   },
   "file_extension": ".py",
   "mimetype": "text/x-python",
   "name": "python",
   "nbconvert_exporter": "python",
   "pygments_lexer": "ipython3",
   "version": "3.11.7"
  }
 },
 "nbformat": 4,
 "nbformat_minor": 5
}
