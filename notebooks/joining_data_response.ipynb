{
 "cells": [
  {
   "cell_type": "code",
   "execution_count": 161,
   "id": "2a1a7507-771e-4e78-a062-9354e285c556",
   "metadata": {},
   "outputs": [],
   "source": [
    "# Join the data from Part 1 with the data from Part 2 to create a new dataframe."
   ]
  },
  {
   "cell_type": "code",
   "execution_count": 162,
   "id": "efe3843e-a0ab-4cf5-9335-665704b1350f",
   "metadata": {},
   "outputs": [
    {
     "data": {
      "text/html": [
       "<div>\n",
       "<style scoped>\n",
       "    .dataframe tbody tr th:only-of-type {\n",
       "        vertical-align: middle;\n",
       "    }\n",
       "\n",
       "    .dataframe tbody tr th {\n",
       "        vertical-align: top;\n",
       "    }\n",
       "\n",
       "    .dataframe thead th {\n",
       "        text-align: right;\n",
       "    }\n",
       "</style>\n",
       "<table border=\"1\" class=\"dataframe\">\n",
       "  <thead>\n",
       "    <tr style=\"text-align: right;\">\n",
       "      <th></th>\n",
       "      <th>empty_slots</th>\n",
       "      <th>free_bikes</th>\n",
       "      <th>id</th>\n",
       "      <th>name_x</th>\n",
       "      <th>name_y</th>\n",
       "      <th>url</th>\n",
       "      <th>review_count</th>\n",
       "      <th>rating</th>\n",
       "      <th>distance</th>\n",
       "    </tr>\n",
       "  </thead>\n",
       "  <tbody>\n",
       "    <tr>\n",
       "      <th>0</th>\n",
       "      <td>8.0</td>\n",
       "      <td>9.0</td>\n",
       "      <td>7f3020118e56165ed8b2f61899edb971</td>\n",
       "      <td>001023 - River Street , Clerkenwell</td>\n",
       "      <td>NaN</td>\n",
       "      <td>NaN</td>\n",
       "      <td>NaN</td>\n",
       "      <td>NaN</td>\n",
       "      <td>NaN</td>\n",
       "    </tr>\n",
       "    <tr>\n",
       "      <th>1</th>\n",
       "      <td>23.0</td>\n",
       "      <td>12.0</td>\n",
       "      <td>67e6c16bce05410ba4b1f0f5000726ea</td>\n",
       "      <td>001018 - Phillimore Gardens, Kensington</td>\n",
       "      <td>NaN</td>\n",
       "      <td>NaN</td>\n",
       "      <td>NaN</td>\n",
       "      <td>NaN</td>\n",
       "      <td>NaN</td>\n",
       "    </tr>\n",
       "    <tr>\n",
       "      <th>2</th>\n",
       "      <td>2.0</td>\n",
       "      <td>15.0</td>\n",
       "      <td>26184215d38089fcad213ef222e69780</td>\n",
       "      <td>001024 - Park Street, Bankside</td>\n",
       "      <td>NaN</td>\n",
       "      <td>NaN</td>\n",
       "      <td>NaN</td>\n",
       "      <td>NaN</td>\n",
       "      <td>NaN</td>\n",
       "    </tr>\n",
       "    <tr>\n",
       "      <th>3</th>\n",
       "      <td>14.0</td>\n",
       "      <td>10.0</td>\n",
       "      <td>1eabd7ac8e781befd03f52ef56a18aa7</td>\n",
       "      <td>001022 - Brunswick Square, Bloomsbury</td>\n",
       "      <td>NaN</td>\n",
       "      <td>NaN</td>\n",
       "      <td>NaN</td>\n",
       "      <td>NaN</td>\n",
       "      <td>NaN</td>\n",
       "    </tr>\n",
       "    <tr>\n",
       "      <th>4</th>\n",
       "      <td>14.0</td>\n",
       "      <td>30.0</td>\n",
       "      <td>23efb32f80a9dcd0e4f61fb44b353ce1</td>\n",
       "      <td>000980 - Malet Street, Bloomsbury</td>\n",
       "      <td>NaN</td>\n",
       "      <td>NaN</td>\n",
       "      <td>NaN</td>\n",
       "      <td>NaN</td>\n",
       "      <td>NaN</td>\n",
       "    </tr>\n",
       "  </tbody>\n",
       "</table>\n",
       "</div>"
      ],
      "text/plain": [
       "   empty_slots  free_bikes                                id  \\\n",
       "0          8.0         9.0  7f3020118e56165ed8b2f61899edb971   \n",
       "1         23.0        12.0  67e6c16bce05410ba4b1f0f5000726ea   \n",
       "2          2.0        15.0  26184215d38089fcad213ef222e69780   \n",
       "3         14.0        10.0  1eabd7ac8e781befd03f52ef56a18aa7   \n",
       "4         14.0        30.0  23efb32f80a9dcd0e4f61fb44b353ce1   \n",
       "\n",
       "                                    name_x name_y  url  review_count  rating  \\\n",
       "0      001023 - River Street , Clerkenwell    NaN  NaN           NaN     NaN   \n",
       "1  001018 - Phillimore Gardens, Kensington    NaN  NaN           NaN     NaN   \n",
       "2           001024 - Park Street, Bankside    NaN  NaN           NaN     NaN   \n",
       "3    001022 - Brunswick Square, Bloomsbury    NaN  NaN           NaN     NaN   \n",
       "4        000980 - Malet Street, Bloomsbury    NaN  NaN           NaN     NaN   \n",
       "\n",
       "   distance  \n",
       "0       NaN  \n",
       "1       NaN  \n",
       "2       NaN  \n",
       "3       NaN  \n",
       "4       NaN  "
      ]
     },
     "execution_count": 162,
     "metadata": {},
     "output_type": "execute_result"
    }
   ],
   "source": [
    "import pandas as pd\n",
    "\n",
    "# Read the CSV files\n",
    "df = pd.read_csv('london_bike_stations.csv')\n",
    "df_drop = df.drop(columns=['Unnamed: 0', 'latitude', 'longitude'])\n",
    "\n",
    "df1 = pd.read_csv('london_uk_yelp.csv')\n",
    "df1_drop = df1.drop(columns=['Unnamed: 0', 'alias', 'categories', 'attributes.waitlist_reservation', 'attributes.open24_hours', 'attributes.menu_url',\n",
    "                            'attributes.business_temp_closed', 'location.display_address', 'location.state', 'location.country', 'image_url', 'is_closed'\n",
    "                            , 'transactions', 'coordinates.latitude', 'display_phone', 'coordinates.longitude', 'location.address1', 'location.address2', 'location.address3',\n",
    "                            'location.zip_code', 'location.city', 'price', 'phone'])\n",
    "\n",
    "# Drop unnecessary columns from df1\n",
    "\n",
    "# Merge the DataFrames\n",
    "combined_df = pd.merge(df_drop, df1_drop, on=['id'], how='outer')\n",
    "\n",
    "# Display the first 5 rows of the combined DataFrame\n",
    "combined_df.head()\n"
   ]
  },
  {
   "cell_type": "code",
   "execution_count": 163,
   "id": "5904e412-9181-49e2-88e6-0df50c682ff0",
   "metadata": {},
   "outputs": [],
   "source": [
    "#Provide a visualization that you used as part of your EDA process. Explain the initial pattern or relationship you discovered through this visualization."
   ]
  },
  {
   "cell_type": "code",
   "execution_count": 164,
   "id": "11cc5175-ec0c-48e3-83f3-8b06a2312972",
   "metadata": {},
   "outputs": [
    {
     "data": {
      "image/png": "[encoded data removed]",
      "text/plain": [
       "<Figure size 1000x600 with 1 Axes>"
      ]
     },
     "metadata": {},
     "output_type": "display_data"
    }
   ],
   "source": [
    "import pandas as pd\n",
    "import matplotlib.pyplot as plt\n",
    "\n",
    "# Read the CSV files\n",
    "df = pd.read_csv('london_bike_stations.csv')\n",
    "df_drop = df.drop(columns=['Unnamed: 0', 'latitude', 'longitude'])\n",
    "\n",
    "df1 = pd.read_csv('london_uk_yelp.csv')\n",
    "df1_drop = df1.drop(columns=['Unnamed: 0', 'alias', 'categories', 'attributes.waitlist_reservation', 'attributes.open24_hours', 'attributes.menu_url',\n",
    "                            'attributes.business_temp_closed', 'location.display_address', 'location.state', 'location.country', 'image_url', 'is_closed'\n",
    "                            , 'transactions', 'coordinates.latitude', 'display_phone', 'coordinates.longitude', 'location.address1', 'location.address2', 'location.address3',\n",
    "                            'location.zip_code', 'location.city', 'price', 'phone'])\n",
    "\n",
    "# Merge the DataFrames\n",
    "combined_df = pd.merge(df_drop, df1_drop, on=['id'], how='outer')\n",
    "\n",
    "# Plotting\n",
    "plt.figure(figsize=(10, 6))\n",
    "plt.scatter(combined_df['free_bikes'], combined_df['empty_slots'], color='green', alpha=0.5)\n",
    "plt.title('Free Bikes vs Empty Slots')\n",
    "plt.xlabel('Free Bikes')\n",
    "plt.ylabel('Empty Slots')\n",
    "plt.grid(True)\n",
    "plt.show()\n"
   ]
  },
  {
   "cell_type": "code",
   "execution_count": null,
   "id": "a356118d-eff5-4e72-81f1-531a8b1d8f2d",
   "metadata": {},
   "outputs": [],
   "source": [
    "The visualization created, plots the relationship between the number of free bikes and empty slots at bike stations in London. Each point on the scatter plot represents a bike station, with the x-coordinate indicating the number of free bikes and the y-coordinate indicating the number of empty slots.\n",
    "\n",
    "From this visualization, I can observe the following initial patterns or relationships:\n",
    "\n",
    "Negative Correlation: There seems to be a negative correlation between the number of free bikes and empty slots. In other words, as the number of free bikes increases, the number of empty slots tends to decrease, and vice versa. This makes intuitive sense because as more bikes are taken by users, fewer bikes remain available at the station, resulting in more empty slots.\n",
    "\n",
    "Clusters: The scatter plot may reveal clusters or groups of bike stations with similar characteristics. Some clusters may represent stations with consistently high or low availability of bikes and empty slots. Identifying these clusters can provide insights into the distribution of bike availability across different areas in London.\n",
    "\n",
    "Outliers: There may be outliers in the data, representing bike stations with unusually high or low availability of bikes and empty slots. These outliers could be due to various factors such as location, popularity, or operational issues.\n",
    "\n",
    "Overall, this visualization provides a useful overview of the distribution of bike availability at stations in London and highlights potential areas for further analysis or investigation."
   ]
  },
  {
   "cell_type": "code",
   "execution_count": null,
   "id": "83f9d394-05ff-4abf-8d77-889d0258a6d6",
   "metadata": {},
   "outputs": [],
   "source": [
    "#Put all your results in an SQLite3 database (remember, SQLite stores its databases as files in your local machine - make sure to create your database in your project's data/ directory!)"
   ]
  },
  {
   "cell_type": "code",
   "execution_count": 173,
   "id": "6aced92e-0bbd-4b9f-a86e-634ad902d9e0",
   "metadata": {},
   "outputs": [],
   "source": [
    "import sqlite3\n",
    "from sqlite3 import Error\n",
    "import pandas as pd\n",
    "\n",
    "df = pd.read_csv(\"london_bike_stations.csv\")\n",
    "df1 = pd.read_csv(\"london_uk_yelp.csv\")\n",
    "\n",
    "#Connect to the SQLite Database in Python:\n",
    "def create_connection(path):\n",
    "    connection = None\n",
    "    try:\n",
    "        connection = sqlite3.connect(path)\n",
    "        print(\"Connection to SQLite DB successful\")\n",
    "    except Error as e:\n",
    "        print(f\"The error '{e}' occurred\")\n",
    "\n",
    "    return connection"
   ]
  },
  {
   "cell_type": "code",
   "execution_count": 174,
   "id": "a998f13e-234f-43b7-9ee6-85cb109799f3",
   "metadata": {},
   "outputs": [
    {
     "name": "stdout",
     "output_type": "stream",
     "text": [
      "Connection to SQLite DB successful\n"
     ]
    }
   ],
   "source": [
    "#Return a Connection:\n",
    "connection = create_connection(\"london_bike_stations_and_yelp.sqlite\")"
   ]
  },
  {
   "cell_type": "code",
   "execution_count": 175,
   "id": "be6c0c1a-01c9-4395-9173-c3aa56a60aa6",
   "metadata": {},
   "outputs": [],
   "source": [
    "#Create Tables Function\n",
    "def execute_query(connection, query):\n",
    "    cursor = connection.cursor()\n",
    "    try:\n",
    "        cursor.execute(query)\n",
    "        connection.commit()\n",
    "        print(\"Query executed successfully\")\n",
    "    except Error as e:\n",
    "        print(f\"The error '{e}' occurred\")"
   ]
  },
  {
   "cell_type": "code",
   "execution_count": 180,
   "id": "1d5fba8d-6dcf-4249-9abd-8fd4c9bbb9e6",
   "metadata": {},
   "outputs": [],
   "source": [
    "#Create the Table for CitiBikes in London_Uk:\n",
    "create_london_bike_table = \"\"\"\n",
    "CREATE TABLE IF NOT EXISTS london_bike_stations (\n",
    "    empty_slots INTEGER,\n",
    "    free_bikes INTEGER,\n",
    "    citibike_id TEXT PRIMARY KEY NOT NULL,\n",
    "    citibike_station TEXT\n",
    ");\n",
    "\"\"\""
   ]
  },
  {
   "cell_type": "code",
   "execution_count": 181,
   "id": "7342124f-e693-4de1-a230-1dc241eddc54",
   "metadata": {},
   "outputs": [
    {
     "name": "stdout",
     "output_type": "stream",
     "text": [
      "Query executed successfully\n"
     ]
    }
   ],
   "source": [
    "#Create Table Query for CitiBikes:\n",
    "execute_query(connection, create_london_bike_table)"
   ]
  },
  {
   "cell_type": "code",
   "execution_count": 187,
   "id": "72407799-129a-476a-bb93-62e141f69139",
   "metadata": {},
   "outputs": [],
   "source": [
    "#Create the Table for Yelp Locations in London:\n",
    "create_london_yelp_table = \"\"\"\n",
    "CREATE TABLE IF NOT EXISTS london_yelp_locations (\n",
    "    yelp_id TEXT,\n",
    "    yelp_name TEXT,\n",
    "    yelp_review_count INTEGER,\n",
    "    yelp_rating FLOAT,\n",
    "    citibike_id TEXT,\n",
    "    FOREIGN KEY (yelp_id) REFERENCES london_bike_stations (yelp_id)\n",
    ");\n",
    "\"\"\""
   ]
  },
  {
   "cell_type": "code",
   "execution_count": 188,
   "id": "c021bce1-eae7-425c-bef4-f84f0b4df4fe",
   "metadata": {},
   "outputs": [
    {
     "name": "stdout",
     "output_type": "stream",
     "text": [
      "Query executed successfully\n"
     ]
    }
   ],
   "source": [
    "#Create Table Query for Yelp Locations:\n",
    "execute_query(connection, create_london_yelp_table)"
   ]
  },
  {
   "cell_type": "code",
   "execution_count": 208,
   "id": "aa36023e-dd9f-4604-b155-4ae18d1681c7",
   "metadata": {},
   "outputs": [
    {
     "data": {
      "text/plain": [
       "794"
      ]
     },
     "execution_count": 208,
     "metadata": {},
     "output_type": "execute_result"
    }
   ],
   "source": [
    "#Import CitiBike to SQLite:\n",
    "df_drop.to_sql('london_bike_stations', connection, if_exists = 'replace', index = False)"
   ]
  },
  {
   "cell_type": "code",
   "execution_count": 207,
   "id": "48731ef6-5a6d-4f61-8880-20f303824ca5",
   "metadata": {},
   "outputs": [
    {
     "data": {
      "text/plain": [
       "20"
      ]
     },
     "execution_count": 207,
     "metadata": {},
     "output_type": "execute_result"
    }
   ],
   "source": [
    "#Import Yelp to SQLite:\n",
    "df1_drop.to_sql('london_yelp_locations', connection, if_exists = 'replace', index = False)"
   ]
  },
  {
   "cell_type": "code",
   "execution_count": 209,
   "id": "6cff8488-4ac7-4727-a6a6-dcf500dbbf07",
   "metadata": {},
   "outputs": [],
   "source": [
    "#Close Connection:\n",
    "connection.close()"
   ]
  },
  {
   "cell_type": "code",
   "execution_count": 210,
   "id": "2af12248-e776-4987-82b1-bb46a3f062d1",
   "metadata": {},
   "outputs": [
    {
     "name": "stdout",
     "output_type": "stream",
     "text": [
      "Connection to SQLite DB successful\n"
     ]
    }
   ],
   "source": [
    "#Create Connection to SQLite:\n",
    "connection = create_connection(\"london_bike_stations_and_yelp.sqlite\")"
   ]
  },
  {
   "cell_type": "code",
   "execution_count": 193,
   "id": "6de73e55-469d-4eb8-a934-e2256f4084e5",
   "metadata": {},
   "outputs": [],
   "source": [
    "#Select Records Function: \n",
    "def execute_read_query(connection, query):\n",
    "    cursor = connection.cursor()\n",
    "    result = None\n",
    "    try:\n",
    "        cursor.execute(query)\n",
    "        result = cursor.fetchall()\n",
    "        return result\n",
    "    except Error as e:\n",
    "        print(f\"The error '{e}' occurred\")"
   ]
  },
  {
   "cell_type": "code",
   "execution_count": 221,
   "id": "f40cd8ce-e4eb-475b-b718-b283caca621d",
   "metadata": {},
   "outputs": [
    {
     "name": "stdout",
     "output_type": "stream",
     "text": [
      "(8, 9, '7f3020118e56165ed8b2f61899edb971', '001023 - River Street , Clerkenwell')\n",
      "(23, 12, '67e6c16bce05410ba4b1f0f5000726ea', '001018 - Phillimore Gardens, Kensington')\n",
      "(2, 15, '26184215d38089fcad213ef222e69780', '001024 - Park Street, Bankside')\n",
      "(14, 10, '1eabd7ac8e781befd03f52ef56a18aa7', '001022 - Brunswick Square, Bloomsbury')\n",
      "(14, 30, '23efb32f80a9dcd0e4f61fb44b353ce1', '000980 - Malet Street, Bloomsbury')\n",
      "(19, 1, '4c4028fef9930764b34cc63c411cd29f', '001010 - Cartwright Gardens , Bloomsbury')\n",
      "(3, 22, '55f4dfcaf7fe3970b8722067a12b2f7f', '001007 - Drury Lane, Covent Garden')\n",
      "(24, 4, 'ebe16a8a0722ff26b583e2bda9cd1af4', '001009 - Taviton Street, Bloomsbury')\n",
      "(15, 13, 'd68d55f9fc5a6ecc846d4e51d9bab5bd', '000993 - Drummond Street , Euston')\n",
      "(11, 8, '0c01f449802222cdd504c8eafa0322a4', '001019 - Ampton Street , Clerkenwell')\n"
     ]
    }
   ],
   "source": [
    "#Select All from Bike Table limited to 5 rows:\n",
    "select_london_bike_stations = \"SELECT * from london_bike_stations limit 10\"\n",
    "london_bike_stations = execute_read_query(connection, select_london_bike_stations)\n",
    "\n",
    "for london_bike_stations in london_bike_stations:\n",
    "    print(london_bike_stations)"
   ]
  },
  {
   "cell_type": "code",
   "execution_count": 218,
   "id": "84a222f9-144e-4110-93af-8b02149260ab",
   "metadata": {},
   "outputs": [
    {
     "name": "stdout",
     "output_type": "stream",
     "text": [
      "('vlq4D26p_143Tj21OF-iMA', 'Dishoom', 'https://www.yelp.com/biz/dishoom-london-2?adjust_creative=3Hby0XniStF519qjv3IVIg&utm_campaign=yelp_api_v3&utm_medium=api_v3_business_search&utm_source=3Hby0XniStF519qjv3IVIg', 666, 4.5, 661.5153860363383)\n",
      "('P33NBF3mTAgFYLmtMljuzg', 'Flight Club', 'https://www.yelp.com/biz/flight-club-london?adjust_creative=3Hby0XniStF519qjv3IVIg&utm_campaign=yelp_api_v3&utm_medium=api_v3_business_search&utm_source=3Hby0XniStF519qjv3IVIg', 34, 4.3, 158.72369796389577)\n"
     ]
    }
   ],
   "source": [
    "#Select All from Yelp Table limited to 5 rows:\n",
    "select_london_yelp_locations = \"SELECT * from london_yelp_locations limit 2\"\n",
    "london_yelp_locations = execute_read_query(connection, select_london_yelp_locations)\n",
    "\n",
    "for london_yelp_location in london_yelp_locations:\n",
    "    print(london_yelp_location)"
   ]
  },
  {
   "cell_type": "code",
   "execution_count": 233,
   "id": "a7e12191-26e1-4bb9-b4ef-7e2409610aac",
   "metadata": {},
   "outputs": [
    {
     "name": "stdout",
     "output_type": "stream",
     "text": [
      "(8, 9, '7f3020118e56165ed8b2f61899edb971', '001023 - River Street , Clerkenwell', None, None, None, None, None, None)\n",
      "(23, 12, '67e6c16bce05410ba4b1f0f5000726ea', '001018 - Phillimore Gardens, Kensington', None, None, None, None, None, None)\n",
      "(2, 15, '26184215d38089fcad213ef222e69780', '001024 - Park Street, Bankside', None, None, None, None, None, None)\n",
      "(14, 10, '1eabd7ac8e781befd03f52ef56a18aa7', '001022 - Brunswick Square, Bloomsbury', None, None, None, None, None, None)\n",
      "(14, 30, '23efb32f80a9dcd0e4f61fb44b353ce1', '000980 - Malet Street, Bloomsbury', None, None, None, None, None, None)\n"
     ]
    }
   ],
   "source": [
    "#Apply Join Function:\n",
    "combine_tables = \"\"\"\n",
    "SELECT *\n",
    "FROM\n",
    "    london_bike_stations\n",
    "FULL OUTER JOIN london_yelp_locations\n",
    "    ON london_bike_stations.id = london_yelp_locations.id\n",
    "LIMIT 5\n",
    "\"\"\"\n",
    "\n",
    "call_join = execute_read_query(connection, combine_tables)\n",
    "\n",
    "for join in call_join:\n",
    "    print(join)"
   ]
  },
  {
   "cell_type": "code",
   "execution_count": null,
   "id": "4810b184-d105-446b-8287-bf9f87d8111c",
   "metadata": {},
   "outputs": [],
   "source": []
  }
 ],
 "metadata": {
  "kernelspec": {
   "display_name": "Python 3 (ipykernel)",
   "language": "python",
   "name": "python3"
  },
  "language_info": {
   "codemirror_mode": {
    "name": "ipython",
    "version": 3
   },
   "file_extension": ".py",
   "mimetype": "text/x-python",
   "name": "python",
   "nbconvert_exporter": "python",
   "pygments_lexer": "ipython3",
   "version": "3.11.7"
  }
 },
 "nbformat": 4,
 "nbformat_minor": 5
}
